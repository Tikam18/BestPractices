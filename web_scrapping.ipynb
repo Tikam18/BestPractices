{
  "cells": [
    {
      "cell_type": "markdown",
      "metadata": {
        "id": "view-in-github",
        "colab_type": "text"
      },
      "source": [
        "<a href=\"https://colab.research.google.com/github/Tikam18/BestPractices/blob/master/web_scrapping.ipynb\" target=\"_parent\"><img src=\"https://colab.research.google.com/assets/colab-badge.svg\" alt=\"Open In Colab\"/></a>"
      ]
    },
    {
      "cell_type": "markdown",
      "id": "1ccf5860",
      "metadata": {
        "id": "1ccf5860"
      },
      "source": [
        "## Changing the date in data from 1980-2022"
      ]
    },
    {
      "cell_type": "code",
      "execution_count": null,
      "id": "883034ba",
      "metadata": {
        "id": "883034ba"
      },
      "outputs": [],
      "source": [
        "from email.header import Header\n",
        "import json\n",
        "import requests\n",
        "import pandas as pd\n",
        "import numpy as np\n",
        "#print(\"start program\")\n",
        "API_KEY = \"8cba6536456c2704bdd5fb1333b65f0e\"\n",
        "query = \"supercapacitor\"\n",
        "base_url = 'https://api.elsevier.com/content/search/sciencedirect'\n",
        "\n",
        "data = {\"qs\": query,\n",
        "        \"date\": 1990,\n",
        "        #\"volume\": 0,\n",
        "        \"display\": {\n",
        "            \"show\": 100,\n",
        "            \"offset\": 0\n",
        "        }}\n",
        "\n",
        "headers = {'x-els-apikey': API_KEY,\n",
        "           'Content-Type': 'application/json',\n",
        "           'Accept': 'application/json',\n",
        "           'email': 'tcsoni.phd2018.meta@nitrr.ac.in'}"
      ]
    },
    {
      "cell_type": "markdown",
      "id": "504c9def",
      "metadata": {
        "id": "504c9def"
      },
      "source": [
        "## Getting the response from Science Direct"
      ]
    },
    {
      "cell_type": "code",
      "execution_count": null,
      "id": "b2696447",
      "metadata": {
        "id": "b2696447"
      },
      "outputs": [],
      "source": [
        "def get_response(url, data, headers):\n",
        "    \"\"\"\n",
        "    Return the response from Elsevier\n",
        "    :param url: <str> base_url\n",
        "    :param data: <dict> data parameters\n",
        "    :param headers: <dict> headers\n",
        "    :return: response\n",
        "    \"\"\"\n",
        "    response = requests.put(url, data=json.dumps(data), headers=headers)\n",
        "    response = response.text.replace('false', 'False').replace('true', 'True')\n",
        "    try:\n",
        "        response = eval(response)\n",
        "    except BaseException:\n",
        "        print(response)\n",
        "    return response"
      ]
    },
    {
      "cell_type": "code",
      "execution_count": null,
      "id": "3d976c2c",
      "metadata": {
        "id": "3d976c2c"
      },
      "outputs": [],
      "source": [
        "print(get_response(base_url,data,headers))"
      ]
    },
    {
      "cell_type": "markdown",
      "id": "b53bd081",
      "metadata": {
        "id": "b53bd081"
      },
      "source": [
        "## Getting DOI from the response"
      ]
    },
    {
      "cell_type": "code",
      "execution_count": null,
      "id": "ee7be6c0",
      "metadata": {
        "id": "ee7be6c0"
      },
      "outputs": [],
      "source": [
        "def get_doi(data):\n",
        "    \"\"\"\n",
        "    Get DOIs\n",
        "    :param data: <dict> data parameters\n",
        "    :param volume: <int> the volume index\n",
        "    :param year: <int> the year index\n",
        "    :return: <list> of <str> list of DOIs\n",
        "    \"\"\"\n",
        "    dois = []\n",
        "    # data['volume'] = volume\n",
        "    #data[\"date\"] = year\n",
        "    response = get_response(base_url, data, headers)\n",
        "    if 'resultsFound' in response.keys():\n",
        "        n = int(np.ceil(response['resultsFound'] / 100))\n",
        "    else:\n",
        "        n = 60\n",
        "    for offset in range(n + 1):\n",
        "        data[\"display\"][\"offset\"] = offset\n",
        "        response = get_response(base_url, data, headers)\n",
        "        if 'results' in response.keys():\n",
        "            results = response['results']\n",
        "            for result in results:\n",
        "                if 'doi' in result:\n",
        "                    dois.append(result['doi'])\n",
        "    return dois"
      ]
    },
    {
      "cell_type": "markdown",
      "id": "fdc73dee",
      "metadata": {
        "id": "fdc73dee"
      },
      "source": [
        "Returns a list of doi's for particular year."
      ]
    },
    {
      "cell_type": "code",
      "execution_count": null,
      "id": "cf722683",
      "metadata": {
        "id": "cf722683"
      },
      "outputs": [],
      "source": [
        "dois = get_doi(data)\n",
        "print(dois)\n",
        "print(len(dois))"
      ]
    },
    {
      "cell_type": "markdown",
      "id": "36f7a355",
      "metadata": {
        "id": "36f7a355"
      },
      "source": [
        "Removing the duplicates\n"
      ]
    },
    {
      "cell_type": "code",
      "execution_count": null,
      "id": "b30a936d",
      "metadata": {
        "id": "b30a936d"
      },
      "outputs": [],
      "source": [
        "dois = list( dict.fromkeys(dois) )\n",
        "print(dois)"
      ]
    },
    {
      "cell_type": "code",
      "execution_count": null,
      "id": "7445ab4b",
      "metadata": {
        "id": "7445ab4b"
      },
      "outputs": [],
      "source": [
        "new_dois = []\n",
        "for item in dois:\n",
        "    for i in item:\n",
        "        item=item.replace(\"/\",\"\")\n",
        "    new_dois.append(item)\n",
        "print(new_dois)\n",
        "print(len(new_dois))"
      ]
    },
    {
      "cell_type": "markdown",
      "id": "12a49538",
      "metadata": {
        "id": "12a49538"
      },
      "source": [
        "## Downloading paper in xml format according to the DOIs"
      ]
    },
    {
      "cell_type": "code",
      "execution_count": null,
      "id": "40a31901",
      "metadata": {
        "id": "40a31901"
      },
      "outputs": [],
      "source": [
        "def download_doi(doi):\n",
        "    \"\"\"\n",
        "    Download the paper according to the DOI\n",
        "    :param doi: <str> DOI\n",
        "    \"\"\"\n",
        "    for i in doi:\n",
        "        ndoi=doi.replace(\"/\",\"\")\n",
        "    \n",
        "    with open(str(ndoi) + '.xml', 'w', encoding='utf-8') as f:\n",
        "        request_url = 'https://api.elsevier.com/content/article/doi/{}?apiKey={}&httpAccept=text%2Fxml'.format(doi, API_KEY)\n",
        "        text = requests.get(request_url).text\n",
        "        f.write(text)\n",
        "    return"
      ]
    },
    {
      "cell_type": "code",
      "execution_count": null,
      "id": "23629536",
      "metadata": {
        "id": "23629536"
      },
      "outputs": [],
      "source": [
        "for d in dois:\n",
        "    download_doi(d)"
      ]
    },
    {
      "cell_type": "code",
      "execution_count": null,
      "id": "dc6e85c8",
      "metadata": {
        "id": "dc6e85c8"
      },
      "outputs": [],
      "source": []
    }
  ],
  "metadata": {
    "kernelspec": {
      "display_name": "Python 3 (ipykernel)",
      "language": "python",
      "name": "python3"
    },
    "language_info": {
      "codemirror_mode": {
        "name": "ipython",
        "version": 3
      },
      "file_extension": ".py",
      "mimetype": "text/x-python",
      "name": "python",
      "nbconvert_exporter": "python",
      "pygments_lexer": "ipython3",
      "version": "3.10.5"
    },
    "colab": {
      "provenance": [],
      "include_colab_link": true
    }
  },
  "nbformat": 4,
  "nbformat_minor": 5
}